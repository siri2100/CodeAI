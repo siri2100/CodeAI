{
 "cells": [
  {
   "cell_type": "code",
   "execution_count": 1,
   "metadata": {},
   "outputs": [
    {
     "name": "stderr",
     "output_type": "stream",
     "text": [
      "c:\\Users\\82109\\anaconda3\\envs\\jjkim95\\lib\\site-packages\\tqdm\\auto.py:21: TqdmWarning: IProgress not found. Please update jupyter and ipywidgets. See https://ipywidgets.readthedocs.io/en/stable/user_install.html\n",
      "  from .autonotebook import tqdm as notebook_tqdm\n"
     ]
    }
   ],
   "source": [
    "from transformers import AutoTokenizer\n",
    "from transformers import AutoModelForSeq2SeqLM"
   ]
  },
  {
   "cell_type": "code",
   "execution_count": 2,
   "metadata": {},
   "outputs": [
    {
     "name": "stderr",
     "output_type": "stream",
     "text": [
      "Downloading (…)lve/main/config.json: 100%|██████████| 1.33k/1.33k [00:00<00:00, 882kB/s]\n",
      "c:\\Users\\82109\\anaconda3\\envs\\jjkim95\\lib\\site-packages\\huggingface_hub\\file_download.py:133: UserWarning: `huggingface_hub` cache-system uses symlinks by default to efficiently store duplicated files but your machine does not support them in C:\\Users\\82109\\.cache\\huggingface\\hub. Caching files will still work but in a degraded version that might require more space on your disk. This warning can be disabled by setting the `HF_HUB_DISABLE_SYMLINKS_WARNING` environment variable. For more details, see https://huggingface.co/docs/huggingface_hub/how-to-cache#limitations.\n",
      "To support symlinks on Windows, you either need to activate Developer Mode or to run Python as an administrator. In order to see activate developer mode, see this article: https://docs.microsoft.com/en-us/windows/apps/get-started/enable-your-device-for-development\n",
      "  warnings.warn(message)\n",
      "Downloading pytorch_model.bin: 100%|██████████| 314M/314M [00:16<00:00, 19.1MB/s] \n",
      "Downloading (…)okenizer_config.json: 100%|██████████| 296/296 [00:00<00:00, 148kB/s]\n",
      "Downloading (…)olve/main/source.spm: 100%|██████████| 790k/790k [00:00<00:00, 1.11MB/s]\n",
      "Downloading (…)olve/main/target.spm: 100%|██████████| 814k/814k [00:00<00:00, 1.16MB/s]\n",
      "Downloading (…)olve/main/vocab.json: 100%|██████████| 1.79M/1.79M [00:00<00:00, 8.52MB/s]\n",
      "Downloading (…)cial_tokens_map.json: 100%|██████████| 65.0/65.0 [00:00<00:00, 21.4kB/s]\n",
      "c:\\Users\\82109\\anaconda3\\envs\\jjkim95\\lib\\site-packages\\transformers\\models\\marian\\tokenization_marian.py:194: UserWarning: Recommended: pip install sacremoses.\n",
      "  warnings.warn(\"Recommended: pip install sacremoses.\")\n"
     ]
    }
   ],
   "source": [
    "model_ckpt = \"AhmedSSoliman/MarianCG-CoNaLa\"\n",
    "model = AutoModelForSeq2SeqLM.from_pretrained(model_ckpt)\n",
    "tokenizer = AutoTokenizer.from_pretrained(model_ckpt)"
   ]
  },
  {
   "cell_type": "code",
   "execution_count": 12,
   "metadata": {},
   "outputs": [],
   "source": [
    "def generate_code(input_nl):\n",
    "    input_token = tokenizer(input_nl, padding=\"max_length\", truncation=True, max_length=512, return_tensors=\"pt\")\n",
    "    output = model.generate(**input_token)\n",
    "    output_token = tokenizer.decode(output[0], skip_special_tokens=True)\n",
    "    return output_token"
   ]
  },
  {
   "cell_type": "code",
   "execution_count": 17,
   "metadata": {},
   "outputs": [
    {
     "name": "stdout",
     "output_type": "stream",
     "text": [
      "all(isinstance(x, int) for x in myList)\n"
     ]
    }
   ],
   "source": [
    "intent = \"check if all elements in list `mylist` are identical\"\n",
    "print(generate_code(intent))"
   ]
  }
 ],
 "metadata": {
  "kernelspec": {
   "display_name": "jjkim95",
   "language": "python",
   "name": "python3"
  },
  "language_info": {
   "codemirror_mode": {
    "name": "ipython",
    "version": 3
   },
   "file_extension": ".py",
   "mimetype": "text/x-python",
   "name": "python",
   "nbconvert_exporter": "python",
   "pygments_lexer": "ipython3",
   "version": "3.9.16"
  },
  "orig_nbformat": 4
 },
 "nbformat": 4,
 "nbformat_minor": 2
}
